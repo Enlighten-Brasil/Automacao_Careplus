{
 "cells": [
  {
   "cell_type": "markdown",
   "id": "75588729",
   "metadata": {},
   "source": [
    "# Instalando os módulos necessários"
   ]
  },
  {
   "cell_type": "code",
   "execution_count": 1,
   "id": "e174f76a",
   "metadata": {},
   "outputs": [
    {
     "name": "stderr",
     "output_type": "stream",
     "text": [
      "[WDM] - Downloading: 100%|████████████████████████████████████████████████████████| 6.81M/6.81M [00:00<00:00, 11.1MB/s]\n"
     ]
    }
   ],
   "source": [
    "import time\n",
    "from selenium import webdriver\n",
    "from webdriver_manager.chrome import ChromeDriverManager\n",
    "from selenium.webdriver.chrome.service import Service\n",
    "\n",
    "#Atualizando automaticamente o webdriver do chrome\n",
    "servico = Service(ChromeDriverManager().install())"
   ]
  },
  {
   "cell_type": "markdown",
   "id": "643acc73",
   "metadata": {},
   "source": [
    "# Iniciando o navegador e eLaw"
   ]
  },
  {
   "cell_type": "code",
   "execution_count": 4,
   "id": "01083880",
   "metadata": {},
   "outputs": [],
   "source": [
    "#Instanciando o navegador\n",
    "navegador = webdriver.Chrome(service=servico)\n",
    "\n",
    "#Abrindo o eLaw\n",
    "navegador.get(\"https://enlighten.elaw.com.br/\")\n",
    "\n",
    "navegador.maximize_window()"
   ]
  },
  {
   "cell_type": "code",
   "execution_count": 6,
   "id": "74ded0b7",
   "metadata": {},
   "outputs": [],
   "source": [
    "#Inserindo dados\n",
    "#time.sleep(4)\n",
    "navegador.find_element('id', 'username').send_keys(\"jose.bueno\")\n",
    "navegador.find_element('id', 'password').send_keys(\"ceoGX@2023\")\n",
    "\n",
    "time.sleep(2)\n",
    "navegador.find_element('xpath', '//*[@id=\"j_id_a_1_5_f\"]/span[2]').click()"
   ]
  },
  {
   "cell_type": "code",
   "execution_count": 8,
   "id": "897b5e4d",
   "metadata": {},
   "outputs": [],
   "source": [
    "#Percorrendo janelas\n",
    "time.sleep(2)\n",
    "navegador.find_element('xpath', '//*[@id=\"j_id_2d_1\"]/ul/li[2]/a').click()\n",
    "\n",
    "time.sleep(2)\n",
    "navegador.find_element('xpath', '//*[@id=\"menu-form-contencioso:j_id_2d_a_5\"]/a').click()\n",
    "\n",
    "time.sleep(2)\n",
    "navegador.find_element('id', 'tabSearchTab:j_id_42_j:j_id_42_k_2_1_label').click()\n",
    "\n",
    "time.sleep(2)\n",
    "navegador.find_element('xpath', '//*[@id=\"tabSearchTab:j_id_42_j:j_id_42_k_2_1_3\"]').click()\n",
    "\n",
    "time.sleep(10)\n",
    "navegador.find_element('xpath', '//*[@id=\"btnPesquisar\"]/span[2]').click()\n",
    "\n",
    "time.sleep(5)\n",
    "navegador.find_element('xpath', '//*[@id=\"btnExcel\"]/span[2]').click()\n",
    "\n",
    "#Trocar a janela para o popup\n",
    "time.sleep(3)\n",
    "navegador.switch_to.frame(navegador.find_element('xpath', '//*[@id=\"btnExcel_dlg\"]/div[2]/iframe'))\n",
    "\n",
    "#clicar em sair\n",
    "time.sleep(2) \n",
    "navegador.find_element('xpath', '//*[@id=\"elawReportForm:j_id_p_5_9\"]/span[2]').click()"
   ]
  },
  {
   "cell_type": "code",
   "execution_count": 38,
   "id": "e0596fa4",
   "metadata": {},
   "outputs": [
    {
     "name": "stdout",
     "output_type": "stream",
     "text": [
      "Baixando o arquivo:  CP - Gerencial (Fechamento)\n",
      "Baixando o arquivo:  CP - Gerencial\n",
      "Baixando o arquivo:  NIPS\n",
      "Baixando o arquivo:  Ações Legado\n",
      "Baixando o arquivo:  Prestador Abusador\n"
     ]
    }
   ],
   "source": [
    "# ---------------------------------------------------\n",
    "time.sleep(5)\n",
    "navegador.find_element('xpath', '//*[@id=\"btnExcel\"]/span[2]').click()\n",
    "\n",
    "time.sleep(3)\n",
    "navegador.switch_to.frame(navegador.find_element('xpath', '//*[@id=\"btnExcel_dlg\"]/div[2]/iframe'))\n",
    "\n",
    "time.sleep(3)\n",
    "navegador.find_element('xpath', '//*[@id=\"j_id_i\"]/div[2]/span').click()\n",
    "\n",
    "# -----------------------------------------------\n",
    "\n",
    "#Loop para baixar os arquivos\n",
    "xpath = ['//*[@id=\"selectProcessoReport_44\"]', '//*[@id=\"selectProcessoReport_43\"]', '//*[@id=\"selectProcessoReport_45\"]', \n",
    "         '//*[@id=\"selectProcessoReport_35\"]', '//*[@id=\"selectProcessoReport_48\"]'] \n",
    "xpath_name = ['CP - Gerencial (Fechamento)', 'CP - Gerencial', 'NIPS', 'Ações Legado', 'Prestador Abusador']\n",
    "\n",
    "for position, pathButton in enumerate(xpath):\n",
    "    \n",
    "    #Mostra o nome do arquivo\n",
    "    print(\"Baixando o arquivo: \", xpath_name[position])\n",
    "    \n",
    "    #Clica no selecionar\n",
    "    time.sleep(3)\n",
    "    navegador.find_element('xpath', '//*[@id=\"selectProcessoReport\"]').click()\n",
    "    \n",
    "    #Encontra o arquivo correto\n",
    "    time.sleep(3)\n",
    "    navegador.find_element('xpath', pathButton).click()\n",
    "    \n",
    "    #Clica em gerar relatório\n",
    "    time.sleep(3)\n",
    "    navegador.find_element('xpath', '//*[@id=\"btnGerarExcelProcessoReport\"]').click()\n",
    "    \n",
    "    #Clica no botão de baixar\n",
    "    time.sleep(110)\n",
    "    navegador.find_element('xpath', '//*[@id=\"j_id_q\"]/span[2]').click()\n",
    "    \n",
    "    #Aguarde um tempo para baixar o arquivo antes do próximo arquivo\n",
    "    time.sleep(5)"
   ]
  },
  {
   "cell_type": "code",
   "execution_count": null,
   "id": "7b808ca8",
   "metadata": {},
   "outputs": [],
   "source": [
    "\"\"\"\n",
    "    1 - Clicar botão: Contencioso\n",
    "    2 - Clicar botão: Pesquisar\n",
    "    3 - Grupo & Empresa: CarePlus\n",
    "    4 - Clicar botão: Pesquisar\n",
    "    5 - Clicar botão: Excel Processo\n",
    "    6 - Alterar para tela pop-up\n",
    "    7 - Inserir valor na barra de pesquisa: CP - Gerencial Fechamento\n",
    "    8 - Clicar botão: Geração Online\n",
    "    9 - Clicar botão: Gerar relatório\n",
    "    10 - Aguardar 110 segundos\n",
    "    11 - Clicar botão: Baixar\n",
    "\"\"\""
   ]
  },
  {
   "cell_type": "code",
   "execution_count": 2,
   "id": "2ec53d09",
   "metadata": {},
   "outputs": [
    {
     "name": "stdout",
     "output_type": "stream",
     "text": [
      "//*[@id=\"selectProcessoReport_44\"]  ->  CP - Gerencial (Fechamento)\n",
      "//*[@id=\"selectProcessoReport_43\"]  ->  CP - Gerencial\n",
      "//*[@id=\"selectProcessoReport_45\"]  ->  NIPS\n",
      "//*[@id=\"selectProcessoReport_35\"]  ->  Ações Legado\n",
      "//*[@id=\"selectProcessoReport_48\"]  ->  Prestador Abusador\n"
     ]
    }
   ],
   "source": [
    "\n",
    "xpath = ['//*[@id=\"selectProcessoReport_44\"]', '//*[@id=\"selectProcessoReport_43\"]', '//*[@id=\"selectProcessoReport_45\"]', \n",
    "         '//*[@id=\"selectProcessoReport_35\"]', '//*[@id=\"selectProcessoReport_48\"]'] \n",
    "xpath_name = ['CP - Gerencial (Fechamento)', 'CP - Gerencial', 'NIPS', 'Ações Legado', 'Prestador Abusador']\n",
    "\n",
    "\n",
    "for pos, p in enumerate(xpath):\n",
    "    print(p, \" -> \", xpath_name[pos])"
   ]
  },
  {
   "cell_type": "code",
   "execution_count": 21,
   "id": "96df32d2",
   "metadata": {},
   "outputs": [
    {
     "name": "stdout",
     "output_type": "stream",
     "text": [
      "elawReport_112_20220268658652903131255975.xlsx\n",
      "Tempo decorrido:  5\n",
      "elawReport_112_202207118182990990681227143.xlsx\n",
      "Tempo decorrido:  10\n",
      "elawReport_112_202211414423194397422192236.xlsx\n",
      "Tempo decorrido:  15\n",
      "elawReport_112_20221587942072085551602010.xlsx\n",
      "Tempo decorrido:  20\n",
      "elawReport_112_202220113524266442130532520.xlsx\n",
      "Tempo decorrido:  25\n"
     ]
    }
   ],
   "source": [
    "import os\n",
    "from datetime import datetime\n",
    "xpath = ['//*[@id=\"selectProcessoReport_44\"]', '//*[@id=\"selectProcessoReport_43\"]', '//*[@id=\"selectProcessoReport_45\"]', \n",
    "         '//*[@id=\"selectProcessoReport_35\"]', '//*[@id=\"selectProcessoReport_48\"]'] \n",
    "xpath_name = ['CP - Gerencial (Fechamento).xlsx', 'CP - Gerencial.xlsx', 'NIPS.xlsx', 'Ações Legado.xlsx', 'Prestador Abusador.xlsx']\n",
    "\n",
    "val1 = datetime.now()\n",
    "\n",
    "\n",
    "os.chdir(r\"C:\\Users\\\\gabri\\\\Downloads\\\\\")\n",
    "         \n",
    "for f in os.listdir():\n",
    "    if \"elawReport\" in f:\n",
    "        print(f)\n",
    "        time.sleep(5)\n",
    "        val2 = datetime.now()\n",
    "        tempo = val2 - val1\n",
    "        print(\"Tempo decorrido: \", round(tempo.total_seconds()))"
   ]
  },
  {
   "cell_type": "code",
   "execution_count": 17,
   "id": "a6237662",
   "metadata": {},
   "outputs": [
    {
     "name": "stdout",
     "output_type": "stream",
     "text": [
      "1681762975.7985768\n"
     ]
    }
   ],
   "source": []
  },
  {
   "cell_type": "code",
   "execution_count": null,
   "id": "ba0fc629",
   "metadata": {},
   "outputs": [],
   "source": []
  }
 ],
 "metadata": {
  "kernelspec": {
   "display_name": "Python 3 (ipykernel)",
   "language": "python",
   "name": "python3"
  },
  "language_info": {
   "codemirror_mode": {
    "name": "ipython",
    "version": 3
   },
   "file_extension": ".py",
   "mimetype": "text/x-python",
   "name": "python",
   "nbconvert_exporter": "python",
   "pygments_lexer": "ipython3",
   "version": "3.11.3"
  }
 },
 "nbformat": 4,
 "nbformat_minor": 5
}
